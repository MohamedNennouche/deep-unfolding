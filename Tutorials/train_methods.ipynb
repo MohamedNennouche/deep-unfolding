{
 "cells": [
  {
   "cell_type": "markdown",
   "metadata": {},
   "source": [
    "# Deep Unfolding approaches"
   ]
  },
  {
   "cell_type": "markdown",
   "metadata": {},
   "source": [
    "The aim of this notebook is to present an example of using one of our models based on Deep Unfolding Learning, called `SORNet`, and to compare it with its conventional counterpart, `SOR`.\n",
    "\n",
    "For more details about these approaches, see the [documentation](https://Salahberra2022.github.io/deep_unfolding/)."
   ]
  },
  {
   "cell_type": "markdown",
   "metadata": {},
   "source": [
    "We start by importing everything we need. From `deep_unfolding`, we import: \n",
    "\n",
    "- A device, to indicate where we're going to run our program (CPU or GPU), and the `generate_A_H_sol()` function to generate a $Ax=b$ problem with random matrices of a size we define.\n",
    "- The model we want to evaluate, `SORNet`, as well as the functions for training it and evaluating it, , `train_model()` and `evaluate_model()`, respectively.\n",
    "- The equivalent classic iterative approach, namely `SOR`."
   ]
  },
  {
   "cell_type": "code",
   "execution_count": 1,
   "metadata": {},
   "outputs": [
    {
     "name": "stdout",
     "output_type": "stream",
     "text": [
      "Code run on : cuda\n"
     ]
    }
   ],
   "source": [
    "from deep_unfolding import (\n",
    "    # From utils module\n",
    "    device,\n",
    "    generate_A_H_sol,\n",
    "    # From train_methods module\n",
    "    train_model,\n",
    "    evaluate_model,\n",
    "    SORNet,\n",
    "    # From methods module\n",
    "    model_iterations,\n",
    "    SOR\n",
    ")\n",
    "\n",
    "import matplotlib.pyplot as plt\n",
    "from torch import nn\n",
    "import torch.optim as optim"
   ]
  },
  {
   "cell_type": "code",
   "execution_count": 2,
   "metadata": {},
   "outputs": [
    {
     "name": "stdout",
     "output_type": "stream",
     "text": [
      "\n",
      "    - Condition number of A: 30.82875247502449\n",
      "    - Min eigenvalue of A: 0.1841907356798616\n",
      "    - Max eigenvalue of A: 5.678370598467115\n"
     ]
    }
   ],
   "source": [
    "total_itr = 5  # Total number of iterations (multiple of \"itr\")\n",
    "n = 300  # Number of rows\n",
    "m = 600  # Number of columns\n",
    "seed = 12 # Seed for the random generator\n",
    "bs = 10000  # Mini-batch size (samples)\n",
    "num_batch = 500  # Number of mini-batches\n",
    "lr_adam = 0.002  # Learning rate of optimizer\n",
    "init_val_SORNet = 1.1  # Initial value of omega for SORNet\n",
    "\n",
    "A, H, W, solution, y = generate_A_H_sol(n=n, m=m, seed=seed, bs=bs)"
   ]
  },
  {
   "cell_type": "markdown",
   "metadata": {},
   "source": [
    "### Deep Unfolding model"
   ]
  },
  {
   "cell_type": "code",
   "execution_count": 3,
   "metadata": {},
   "outputs": [],
   "source": [
    "# SORNet model\n",
    "model_SorNet = SORNet(A, H, bs, y, init_val_SORNet, device=device)\n",
    "\n",
    "# Loss function and Optimizer\n",
    "loss_func = nn.MSELoss()\n",
    "opt_SORNet = optim.Adam(model_SorNet.parameters(), lr=lr_adam)"
   ]
  },
  {
   "cell_type": "code",
   "execution_count": 4,
   "metadata": {},
   "outputs": [
    {
     "name": "stdout",
     "output_type": "stream",
     "text": [
      "generation: 1  batch: 0 \t MSE loss: 0.21320094168186188\n",
      "generation: 1  batch: 200 \t MSE loss: 0.16291621327400208\n",
      "generation: 1  batch: 400 \t MSE loss: 0.1555810272693634\n",
      "generation: 2  batch: 0 \t MSE loss: 0.09591412544250488\n",
      "generation: 2  batch: 200 \t MSE loss: 0.09154010564088821\n",
      "generation: 2  batch: 400 \t MSE loss: 0.08546845614910126\n",
      "generation: 3  batch: 0 \t MSE loss: 0.04468154534697533\n",
      "generation: 3  batch: 200 \t MSE loss: 0.034263353794813156\n",
      "generation: 3  batch: 400 \t MSE loss: 0.03338592126965523\n",
      "generation: 4  batch: 0 \t MSE loss: 0.014143682084977627\n",
      "generation: 4  batch: 200 \t MSE loss: 0.013105632737278938\n",
      "generation: 4  batch: 400 \t MSE loss: 0.013105631805956364\n",
      "generation: 5  batch: 0 \t MSE loss: 0.005156043451279402\n",
      "generation: 5  batch: 200 \t MSE loss: 0.004993224050849676\n",
      "generation: 5  batch: 400 \t MSE loss: 0.0049932231195271015\n"
     ]
    }
   ],
   "source": [
    "trained_model_SorNet, loss_gen_SORNet = train_model(model_SorNet, opt_SORNet, loss_func, solution, total_itr, num_batch)"
   ]
  },
  {
   "cell_type": "code",
   "execution_count": 5,
   "metadata": {},
   "outputs": [],
   "source": [
    "norm_list_SORNet = evaluate_model(trained_model_SorNet, solution, n, bs, total_itr, device=device)"
   ]
  },
  {
   "cell_type": "markdown",
   "metadata": {},
   "source": [
    "### Conventional approach"
   ]
  },
  {
   "cell_type": "code",
   "execution_count": 6,
   "metadata": {},
   "outputs": [],
   "source": [
    "SOR_model = SOR(n = n, A = A, H = H, bs = bs, y = y, omega = 1.8)"
   ]
  },
  {
   "cell_type": "code",
   "execution_count": 7,
   "metadata": {},
   "outputs": [],
   "source": [
    "s_hat_SOR, norm_list_SOR = model_iterations(total_itr = total_itr, n = n, bs = bs, model = SOR_model, solution = solution)"
   ]
  },
  {
   "cell_type": "markdown",
   "metadata": {},
   "source": [
    "## Performance comparison"
   ]
  },
  {
   "cell_type": "code",
   "execution_count": 8,
   "metadata": {},
   "outputs": [
    {
     "data": {
      "image/png": "[encoded data removed]",
      "text/plain": [
       "<Figure size 600x500 with 1 Axes>"
      ]
     },
     "metadata": {},
     "output_type": "display_data"
    }
   ],
   "source": [
    "norm_list = [norm_list_SORNet, norm_list_SOR]\n",
    "methods = [\"SORNet\", \"SOR\"]\n",
    "marker_list = ['^k-', 'sb-']\n",
    "\n",
    "itr_list = list(range(total_itr + 1))\n",
    "plt.figure(figsize=(6,5))\n",
    "for k, iterative in enumerate(norm_list):\n",
    "    plt.semilogy(itr_list, iterative, marker_list[k], label=methods[k])\n",
    "    plt.grid(\"True\")\n",
    "plt.legend(fontsize=11)\n",
    "plt.xlabel('Iterations', fontsize=16)\n",
    "plt.ylabel('MSE', fontsize=16)\n",
    "plt.yscale('log')\n",
    "plt.show()"
   ]
  }
 ],
 "metadata": {
  "kernelspec": {
   "display_name": "base",
   "language": "python",
   "name": "python3"
  },
  "language_info": {
   "codemirror_mode": {
    "name": "ipython",
    "version": 3
   },
   "file_extension": ".py",
   "mimetype": "text/x-python",
   "name": "python",
   "nbconvert_exporter": "python",
   "pygments_lexer": "ipython3",
   "version": "3.10.12"
  }
 },
 "nbformat": 4,
 "nbformat_minor": 2
}
