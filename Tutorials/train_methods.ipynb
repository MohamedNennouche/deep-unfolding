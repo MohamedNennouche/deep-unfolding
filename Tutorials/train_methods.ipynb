{
 "cells": [
  {
   "cell_type": "markdown",
   "metadata": {},
   "source": [
    "# Deep Unfolding approaches"
   ]
  },
  {
   "cell_type": "markdown",
   "metadata": {},
   "source": [
    "The aim of this notebook is to present an example of the use of one of our models based on Deep Unfolding Learning, which is the `SORNet`, and to compare it with its `SOR` counterpart, which is based on the conventional approach.\n",
    "\n",
    "For more details about these approaches see this [add a link](#)"
   ]
  },
  {
   "cell_type": "markdown",
   "metadata": {},
   "source": [
    "We start by importing everything we need: \n",
    "- From `unfolding_linear.utils` we import device to indicate where we're going to run our program (cpu or gpu), and `generate_A_H_sol` to generate a $Ax=b$ problem with random matrices of a size we define.\n",
    "- From `unfolding_linear.train_methods` we import the model we want to evaluate (`SORNet`) as well as the function for training it (`train_model`) and evaluating it (`evaluate_model`).\n",
    "- From `unfolding_linear_.methods` we import its equivalent using a classic iterative approach (`SOR`)"
   ]
  },
  {
   "cell_type": "code",
   "execution_count": 18,
   "metadata": {},
   "outputs": [],
   "source": [
    "from unfolding_linear.utils import device, generate_A_H_sol\n",
    "import matplotlib.pyplot as plt\n",
    "\n",
    "from unfolding_linear.train_methods import train_model, evaluate_model, SORNet\n",
    "from unfolding_linear.methods import model_iterations, SOR"
   ]
  },
  {
   "cell_type": "code",
   "execution_count": 7,
   "metadata": {},
   "outputs": [
    {
     "name": "stdout",
     "output_type": "stream",
     "text": [
      "\n",
      "    - Condition number of A: 30.8287524750237 \n",
      "    - Min eigenvalue of A: 0.18419073567986696\n",
      "    - Max eigenvalue of A: 5.678370598467135\n"
     ]
    }
   ],
   "source": [
    "total_itr = 5  # Total number of iterations (multiple of \"itr\")\n",
    "n = 300  # Number of rows \n",
    "m = 600  # Number of columns \n",
    "seed = 12 # Seed for the random generator\n",
    "bs = 10000  # Mini-batch size (samples)\n",
    "num_batch = 500  # Number of mini-batches\n",
    "lr_adam = 0.002  # Learning rate of optimizer\n",
    "init_val_SORNet = 1.1  # Initial value of omega for SORNet\n",
    "\n",
    "A, H, W, solution, y = generate_A_H_sol(n=n, m=m, seed=seed, bs=bs)"
   ]
  },
  {
   "cell_type": "code",
   "execution_count": 5,
   "metadata": {},
   "outputs": [
    {
     "data": {
      "text/plain": [
       "(300, 300)"
      ]
     },
     "execution_count": 5,
     "metadata": {},
     "output_type": "execute_result"
    }
   ],
   "source": [
    "A.shape"
   ]
  },
  {
   "cell_type": "markdown",
   "metadata": {},
   "source": [
    "### Deep Unfolding model"
   ]
  },
  {
   "cell_type": "code",
   "execution_count": 8,
   "metadata": {},
   "outputs": [],
   "source": [
    "# SORNet model\n",
    "model_SorNet = SORNet(A, H, bs, y, init_val_SORNet, device=device)\n",
    "\n",
    "# Loss function and Optimizer\n",
    "loss_func = nn.MSELoss()\n",
    "opt_SORNet = optim.Adam(model_SorNet.parameters(), lr=lr_adam)"
   ]
  },
  {
   "cell_type": "code",
   "execution_count": 10,
   "metadata": {},
   "outputs": [
    {
     "name": "stdout",
     "output_type": "stream",
     "text": [
      "generation: 1  batch: 0 \t MSE loss: 0.2130812108516693\n",
      "generation: 1  batch: 200 \t MSE loss: 0.1629752367734909\n",
      "generation: 1  batch: 400 \t MSE loss: 0.15569967031478882\n",
      "generation: 2  batch: 0 \t MSE loss: 0.09597410261631012\n",
      "generation: 2  batch: 200 \t MSE loss: 0.09154356271028519\n",
      "generation: 2  batch: 400 \t MSE loss: 0.0854104608297348\n",
      "generation: 3  batch: 0 \t MSE loss: 0.044561345130205154\n",
      "generation: 3  batch: 200 \t MSE loss: 0.034230925142765045\n",
      "generation: 3  batch: 400 \t MSE loss: 0.033416930586099625\n",
      "generation: 4  batch: 0 \t MSE loss: 0.014155077748000622\n",
      "generation: 4  batch: 200 \t MSE loss: 0.013111873529851437\n",
      "generation: 4  batch: 400 \t MSE loss: 0.013111873529851437\n",
      "generation: 5  batch: 0 \t MSE loss: 0.0051473514176905155\n",
      "generation: 5  batch: 200 \t MSE loss: 0.004983512219041586\n",
      "generation: 5  batch: 400 \t MSE loss: 0.0049835131503641605\n"
     ]
    }
   ],
   "source": [
    "trained_model_SorNet, loss_gen_SORNet = train_model(model_SorNet, opt_SORNet, loss_func, solution, total_itr, num_batch)"
   ]
  },
  {
   "cell_type": "code",
   "execution_count": 12,
   "metadata": {},
   "outputs": [],
   "source": [
    "norm_list_SORNet = evaluate_model(trained_model_SorNet, solution, n, bs, total_itr, device=device)"
   ]
  },
  {
   "cell_type": "markdown",
   "metadata": {},
   "source": [
    "### Conventional approach"
   ]
  },
  {
   "cell_type": "code",
   "execution_count": 13,
   "metadata": {},
   "outputs": [],
   "source": [
    "SOR_model = SOR(n = n, A = A, H = H, bs = bs, y = y, omega = 1.8)"
   ]
  },
  {
   "cell_type": "code",
   "execution_count": 14,
   "metadata": {},
   "outputs": [],
   "source": [
    "s_hat_SOR, norm_list_SOR = model_iterations(total_itr = total_itr, n = n, bs = bs, model = SOR_model, solution = solution)"
   ]
  },
  {
   "cell_type": "markdown",
   "metadata": {},
   "source": [
    "## Performances comparison"
   ]
  },
  {
   "cell_type": "code",
   "execution_count": 22,
   "metadata": {},
   "outputs": [
    {
     "data": {
      "image/png": "[encoded data removed]",
      "text/plain": [
       "<Figure size 600x500 with 1 Axes>"
      ]
     },
     "metadata": {},
     "output_type": "display_data"
    }
   ],
   "source": [
    "norm_list = [norm_list_SORNet, norm_list_SOR]\n",
    "methods = [\"SORNet\", \"SOR\"]\n",
    "marker_list = ['^k-', 'sb-']\n",
    "\n",
    "itr_list = list(range(total_itr + 1))\n",
    "plt.figure(figsize=(6,5))\n",
    "for k, iterative in enumerate(norm_list):\n",
    "    plt.semilogy(itr_list, iterative, marker_list[k], label=methods[k])\n",
    "    plt.grid(\"True\")\n",
    "plt.legend(fontsize=11)\n",
    "plt.xlabel('Iterations', fontsize=16)\n",
    "plt.ylabel('MSE', fontsize=16)\n",
    "plt.yscale('log')\n",
    "plt.show()"
   ]
  }
 ],
 "metadata": {
  "kernelspec": {
   "display_name": "base",
   "language": "python",
   "name": "python3"
  },
  "language_info": {
   "codemirror_mode": {
    "name": "ipython",
    "version": 3
   },
   "file_extension": ".py",
   "mimetype": "text/x-python",
   "name": "python",
   "nbconvert_exporter": "python",
   "pygments_lexer": "ipython3",
   "version": "3.9.18"
  }
 },
 "nbformat": 4,
 "nbformat_minor": 2
}
