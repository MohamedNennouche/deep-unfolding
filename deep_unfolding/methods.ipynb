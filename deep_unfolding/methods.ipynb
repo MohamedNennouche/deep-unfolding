{
 "cells": [
  {
   "cell_type": "code",
   "execution_count": 24,
   "metadata": {},
   "outputs": [],
   "source": [
    "import numpy as np\n",
    "import torch\n",
    "import torch.nn as nn\n",
    "import torch.optim as optim\n",
    "import torch.nn.functional as F\n",
    "import math\n",
    "import matplotlib.pyplot as plt\n",
    "from methods import generate_A_H_sol, model_iterations, GS, RI, Jacobi, SOR, SOR_CHEBY, AOR, AOR_CHEBY"
   ]
  },
  {
   "cell_type": "markdown",
   "metadata": {},
   "source": [
    "- eventuellement ajouter itr dans init pour le mettre comme variable self.itr"
   ]
  },
  {
   "cell_type": "code",
   "execution_count": 25,
   "metadata": {},
   "outputs": [
    {
     "name": "stdout",
     "output_type": "stream",
     "text": [
      "Condition number, min. and max. eigenvalues of A:\n",
      "30.828752475024576 5.678370598467175 0.18419073567986302\n"
     ]
    }
   ],
   "source": [
    "# Model parameters and Parameters for evaluation of generalization error\n",
    "total_itr = 25  # Total number of iterations\n",
    "n = 300  # Size of matrix (rows) # ? Paramètre non ?\n",
    "m = 600  # Size of matrix (columns) # ? Paramètre non ?\n",
    "bs = 10  # Number of samples #? comment ca samples?\n",
    "\n",
    "# Generate A and H\n",
    "A, H, W, solution, y = generate_A_H_sol(n=n, m=m, seed=12, bs=bs)"
   ]
  },
  {
   "cell_type": "markdown",
   "metadata": {},
   "source": [
    "## Modèles"
   ]
  },
  {
   "cell_type": "code",
   "execution_count": 26,
   "metadata": {},
   "outputs": [],
   "source": [
    "gs_model = GS(n = n, A = A, H = H, bs = bs, y = y)\n",
    "ri_model = RI(n = n, A = A, H = H, bs = bs, y = y)\n",
    "Jacobi_model = RI(n = n, A = A, H = H, bs = bs, y = y)\n",
    "SOR_model = SOR(n = n, A = A, H = H, bs = bs, y = y)\n",
    "SOR_Cheby_model = SOR_CHEBY(n = n, A = A, H = H, bs = bs, y = y)\n",
    "AOR_model = AOR(n = n, A = A, H = H, bs = bs, y = y)\n",
    "AOR_Cheby_model = AOR_CHEBY(n = n, A = A, H = H, bs = bs, y = y)\n",
    "\n",
    "s_hat_GS, norm_list_GS = model_iterations(total_itr = total_itr, n = n, bs = bs, model = gs_model, solution = solution)\n",
    "s_hat_RI, norm_list_RI = model_iterations(total_itr = total_itr, n = n, bs = bs, model = ri_model, solution = solution)\n",
    "s_hat_Jacobi, norm_list_Jacobi = model_iterations(total_itr = total_itr, n = n, bs = bs, model = Jacobi_model, solution = solution)\n",
    "s_hat_SOR, norm_list_SOR = model_iterations(total_itr = total_itr, n = n, bs = bs, model = SOR_model, solution = solution)\n",
    "s_hat_SOR_Cheby, norm_list_SOR_Cheby = model_iterations(total_itr = total_itr, n = n, bs = bs, model = SOR_Cheby_model, solution = solution)\n",
    "s_hat_AOR, norm_list_AOR = model_iterations(total_itr = total_itr, n = n, bs = bs, model = AOR_model, solution = solution)\n",
    "s_hat_AOR_Cheby, norm_list_AOR_Cheby = model_iterations(total_itr = total_itr, n = n, bs = bs, model = AOR_Cheby_model, solution = solution)"
   ]
  },
  {
   "cell_type": "markdown",
   "metadata": {},
   "source": [
    "## Gauss Seidel"
   ]
  },
  {
   "cell_type": "code",
   "execution_count": 27,
   "metadata": {},
   "outputs": [
    {
     "data": {
      "text/plain": [
       "[0.5007776692708333,\n",
       " 0.24225250244140625,\n",
       " 0.07689220174153646,\n",
       " 0.03530949401855469,\n",
       " 0.017983745574951172,\n",
       " 0.009662199020385741,\n",
       " 0.005376973470052083,\n",
       " 0.0030711469650268556,\n",
       " 0.0017893953323364258,\n",
       " 0.0010587469736735027,\n",
       " 0.0006340147654215495,\n",
       " 0.0003833069403966268,\n",
       " 0.00023352736234664916,\n",
       " 0.00014318059881528219,\n",
       " 8.825677633285522e-05,\n",
       " 5.4651613036791485e-05,\n",
       " 3.397804747025172e-05,\n",
       " 2.120053768157959e-05,\n",
       " 1.3270939389864604e-05,\n",
       " 8.331976210077603e-06,\n",
       " 5.245571956038475e-06,\n",
       " 3.3111305286486944e-06,\n",
       " 2.0951822710533936e-06,\n",
       " 1.3288973520199457e-06,\n",
       " 8.447426371276378e-07,\n",
       " 5.381464725360274e-07]"
      ]
     },
     "execution_count": 27,
     "metadata": {},
     "output_type": "execute_result"
    }
   ],
   "source": [
    "norm_list_GS"
   ]
  },
  {
   "cell_type": "markdown",
   "metadata": {},
   "source": [
    "## RI"
   ]
  },
  {
   "cell_type": "code",
   "execution_count": 28,
   "metadata": {},
   "outputs": [
    {
     "data": {
      "text/plain": [
       "[0.5007776692708333,\n",
       " 0.1637213846842448,\n",
       " 0.1136509501139323,\n",
       " 0.08698954264322917,\n",
       " 0.06859415181477864,\n",
       " 0.05502643330891927,\n",
       " 0.04470658365885417,\n",
       " 0.03669231160481771,\n",
       " 0.030367357889811198,\n",
       " 0.025309679667154947,\n",
       " 0.021221022288004557,\n",
       " 0.017885183970133462,\n",
       " 0.015142094930013021,\n",
       " 0.012871086120605469,\n",
       " 0.010979750315348308,\n",
       " 0.00939637565612793,\n",
       " 0.008064666748046874,\n",
       " 0.00693995984395345,\n",
       " 0.005986516316731771,\n",
       " 0.005175506591796875,\n",
       " 0.0044835163752237955,\n",
       " 0.0038913984298706056,\n",
       " 0.0033834123611450194,\n",
       " 0.0029465513229370117,\n",
       " 0.0025700170199076337,\n",
       " 0.002244802157084147]"
      ]
     },
     "execution_count": 28,
     "metadata": {},
     "output_type": "execute_result"
    }
   ],
   "source": [
    "norm_list_RI"
   ]
  },
  {
   "cell_type": "markdown",
   "metadata": {},
   "source": [
    "## Jacobi"
   ]
  },
  {
   "cell_type": "code",
   "execution_count": 29,
   "metadata": {},
   "outputs": [
    {
     "data": {
      "text/plain": [
       "[0.5007776692708333,\n",
       " 0.1637213846842448,\n",
       " 0.1136509501139323,\n",
       " 0.08698954264322917,\n",
       " 0.06859415181477864,\n",
       " 0.05502643330891927,\n",
       " 0.04470658365885417,\n",
       " 0.03669231160481771,\n",
       " 0.030367357889811198,\n",
       " 0.025309679667154947,\n",
       " 0.021221022288004557,\n",
       " 0.017885183970133462,\n",
       " 0.015142094930013021,\n",
       " 0.012871086120605469,\n",
       " 0.010979750315348308,\n",
       " 0.00939637565612793,\n",
       " 0.008064666748046874,\n",
       " 0.00693995984395345,\n",
       " 0.005986516316731771,\n",
       " 0.005175506591796875,\n",
       " 0.0044835163752237955,\n",
       " 0.0038913984298706056,\n",
       " 0.0033834123611450194,\n",
       " 0.0029465513229370117,\n",
       " 0.0025700170199076337,\n",
       " 0.002244802157084147]"
      ]
     },
     "execution_count": 29,
     "metadata": {},
     "output_type": "execute_result"
    }
   ],
   "source": [
    "norm_list_Jacobi"
   ]
  },
  {
   "cell_type": "markdown",
   "metadata": {},
   "source": [
    "## SOR"
   ]
  },
  {
   "cell_type": "code",
   "execution_count": 30,
   "metadata": {},
   "outputs": [
    {
     "data": {
      "text/plain": [
       "[0.5007776692708333,\n",
       " 1.3191807454427082,\n",
       " 1.3891826171875,\n",
       " 1.32274365234375,\n",
       " 1.2837342936197917,\n",
       " 1.2963062337239584,\n",
       " 1.297941162109375,\n",
       " 1.2976223958333333,\n",
       " 1.29729931640625,\n",
       " 1.2972356770833333,\n",
       " 1.2972797037760417,\n",
       " 1.2972998046875,\n",
       " 1.2972984212239584,\n",
       " 1.297291259765625,\n",
       " 1.2972923177083333,\n",
       " 1.2972931315104166,\n",
       " 1.2972931315104166,\n",
       " 1.2972926432291667,\n",
       " 1.2972926432291667,\n",
       " 1.2972926432291667,\n",
       " 1.2972926432291667,\n",
       " 1.2972926432291667,\n",
       " 1.2972926432291667,\n",
       " 1.2972926432291667,\n",
       " 1.2972926432291667,\n",
       " 1.2972928059895834]"
      ]
     },
     "execution_count": 30,
     "metadata": {},
     "output_type": "execute_result"
    }
   ],
   "source": [
    "norm_list_SOR"
   ]
  },
  {
   "cell_type": "markdown",
   "metadata": {},
   "source": [
    "## SOR Chebychev"
   ]
  },
  {
   "cell_type": "code",
   "execution_count": 31,
   "metadata": {},
   "outputs": [
    {
     "data": {
      "text/plain": [
       "[1.02124951171875,\n",
       " 0.7843208821614583,\n",
       " 1.2347860514322917,\n",
       " 1.3178898111979167,\n",
       " 1.296291748046875,\n",
       " 1.2936586100260417,\n",
       " 1.2969039713541666,\n",
       " 1.2975662434895834,\n",
       " 1.29740576171875,\n",
       " 1.2972755533854166,\n",
       " 1.29727001953125,\n",
       " 1.2972910970052083,\n",
       " 1.2972974446614582,\n",
       " 1.29729345703125,\n",
       " 1.2972923177083333,\n",
       " 1.2972926432291667,\n",
       " 1.29729296875,\n",
       " 1.2972928059895834,\n",
       " 1.2972926432291667,\n",
       " 1.2972926432291667,\n",
       " 1.2972926432291667,\n",
       " 1.2972926432291667,\n",
       " 1.2972926432291667,\n",
       " 1.2972926432291667,\n",
       " 1.2972928059895834,\n",
       " 1.2972926432291667]"
      ]
     },
     "execution_count": 31,
     "metadata": {},
     "output_type": "execute_result"
    }
   ],
   "source": [
    "norm_list_SOR_Cheby"
   ]
  },
  {
   "cell_type": "markdown",
   "metadata": {},
   "source": [
    "## AOR"
   ]
  },
  {
   "cell_type": "code",
   "execution_count": 32,
   "metadata": {},
   "outputs": [
    {
     "data": {
      "text/plain": [
       "[0.5007776692708333,\n",
       " 1.1662648111979166,\n",
       " 2.32649072265625,\n",
       " 4.2281529947916665,\n",
       " 7.26148828125,\n",
       " 12.046022135416667,\n",
       " 19.570518229166666,\n",
       " 31.4212734375,\n",
       " 50.15575,\n",
       " 79.91627083333333,\n",
       " 127.44123958333333,\n",
       " 203.73560416666666,\n",
       " 326.8376666666667,\n",
       " 526.4099166666666,\n",
       " 851.3750833333334,\n",
       " 1382.6335,\n",
       " 2254.2805,\n",
       " 3689.063,\n",
       " 6057.666,\n",
       " 9978.046,\n",
       " 16481.913333333334,\n",
       " 27294.122666666666,\n",
       " 45301.80266666667,\n",
       " 75343.01866666667,\n",
       " 125532.896,\n",
       " 209495.53066666666]"
      ]
     },
     "execution_count": 32,
     "metadata": {},
     "output_type": "execute_result"
    }
   ],
   "source": [
    "norm_list_AOR"
   ]
  },
  {
   "cell_type": "markdown",
   "metadata": {},
   "source": [
    "## AOR Chebychev"
   ]
  },
  {
   "cell_type": "code",
   "execution_count": 33,
   "metadata": {},
   "outputs": [
    {
     "data": {
      "text/plain": [
       "[0.6708399658203125,\n",
       " 3.6278232421875,\n",
       " 9.783828776041666,\n",
       " 19.15141796875,\n",
       " 31.822091145833333,\n",
       " 47.9635,\n",
       " 67.81908854166667,\n",
       " 91.7105,\n",
       " 120.0424375,\n",
       " 153.31028125,\n",
       " 192.11,\n",
       " 237.1509375,\n",
       " 289.2716875,\n",
       " 349.458875,\n",
       " 418.8702916666667,\n",
       " 498.86220833333334,\n",
       " 591.020875,\n",
       " 697.2020833333333,\n",
       " 819.5746666666666,\n",
       " 960.6750833333333,\n",
       " 1123.4680833333334,\n",
       " 1311.42325,\n",
       " 1528.6001666666666,\n",
       " 1779.751,\n",
       " 2070.4436666666666,\n",
       " 2407.2013333333334]"
      ]
     },
     "execution_count": 33,
     "metadata": {},
     "output_type": "execute_result"
    }
   ],
   "source": [
    "norm_list_AOR_Cheby"
   ]
  }
 ],
 "metadata": {
  "kernelspec": {
   "display_name": "base",
   "language": "python",
   "name": "python3"
  },
  "language_info": {
   "codemirror_mode": {
    "name": "ipython",
    "version": 3
   },
   "file_extension": ".py",
   "mimetype": "text/x-python",
   "name": "python",
   "nbconvert_exporter": "python",
   "pygments_lexer": "ipython3",
   "version": "3.9.18"
  }
 },
 "nbformat": 4,
 "nbformat_minor": 2
}
