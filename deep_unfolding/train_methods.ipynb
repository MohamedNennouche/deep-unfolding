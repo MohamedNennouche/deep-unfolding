{
 "cells": [
  {
   "cell_type": "code",
   "execution_count": 13,
   "metadata": {},
   "outputs": [],
   "source": [
    "from utils import device, generate_A_H_sol\n",
    "import torch.nn as nn\n",
    "import torch.optim as optim\n",
    "\n",
    "from train_methods import train_model, evaluate_model, SORNet, SOR_CHEBY_Net, AORNet, RINet"
   ]
  },
  {
   "cell_type": "code",
   "execution_count": 14,
   "metadata": {},
   "outputs": [
    {
     "name": "stdout",
     "output_type": "stream",
     "text": [
      "Condition number, min. and max. eigenvalues of A:\n",
      "30.828752475024576 5.678370598467175 0.18419073567986302\n"
     ]
    }
   ],
   "source": [
    "# # ! Tout ca devrait être des variables\n",
    "total_itr = 25  # Total number of iterations (multiple of \"itr\")\n",
    "n = 300  # Number of rows # ? suppose to be a variable ?\n",
    "m = 600  # Number of columns # ? suppose to be a variable ?\n",
    "bs = 10000  # Mini-batch size (samples)\n",
    "num_batch = 500  # Number of mini-batches\n",
    "lr_adam = 0.002  # Learning rate of optimizer\n",
    "init_val_SORNet = 1.1  # Initial value of omega for SORNet\n",
    "init_val_SOR_CHEBY_Net_omega = 0.6  # Initial value of omega for SOR_CHEBY_Net\n",
    "init_val_SOR_CHEBY_Net_gamma = 0.8  # Initial value of gamma for SOR_CHEBY_Net\n",
    "init_val_SOR_CHEBY_Net_alpha = 0.9  # Initial value of alpha for SOR_CHEBY_Net\n",
    "init_val_AORNet_r = 0.9  # Initial value of r for AORNet\n",
    "init_val_AORNet_omega = 1.5  # Initial value of omega for AORNet\n",
    "init_val_RINet = 0.1  # Initial value of omega for RINet\n",
    "\n",
    "# Generate A and H\n",
    "seed = 12\n",
    "\n",
    "A, H, W, solution, y = generate_A_H_sol(n=n, m=m, seed=seed, bs=bs)"
   ]
  },
  {
   "cell_type": "code",
   "execution_count": 15,
   "metadata": {},
   "outputs": [],
   "source": [
    "loss_func = nn.MSELoss()\n",
    "\n",
    "# Models\n",
    "model_SorNet = SORNet(init_val_SORNet, A, H, bs, y, device=device)\n",
    "model_Sor_Cheby_Net = SOR_CHEBY_Net(total_itr, init_val_SOR_CHEBY_Net_omega, init_val_SOR_CHEBY_Net_gamma, init_val_SOR_CHEBY_Net_alpha, A, H, bs, y, device=device)\n",
    "model_AorNet = AORNet(init_val_AORNet_r, init_val_AORNet_omega, A, H, bs, y, device=device)\n",
    "model_RINet = RINet( init_val_RINet, A, H, bs, y, device=device)\n",
    "\n",
    "# Optimizers\n",
    "opt_SORNet = optim.Adam(model_SorNet.parameters(), lr=lr_adam)\n",
    "opt_SORNet_Cheby = optim.Adam(model_Sor_Cheby_Net.parameters(), lr=lr_adam)\n",
    "opt_AORNet = optim.Adam(model_AorNet.parameters(), lr=lr_adam)\n",
    "opt_RINet = optim.Adam(model_RINet.parameters(), lr=lr_adam)"
   ]
  },
  {
   "cell_type": "code",
   "execution_count": null,
   "metadata": {},
   "outputs": [],
   "source": [
    "trained_model_SorNet, loss_gen_SORNet = train_model(model_SorNet, opt_SORNet, loss_func, total_itr, solution, num_batch)"
   ]
  },
  {
   "cell_type": "code",
   "execution_count": 18,
   "metadata": {},
   "outputs": [],
   "source": [
    "norm_list_SORNet = evaluate_model(trained_model_SorNet, solution, n, bs, total_itr, device=device)"
   ]
  },
  {
   "cell_type": "code",
   "execution_count": 19,
   "metadata": {},
   "outputs": [
    {
     "data": {
      "text/plain": [
       "[0.49839979166666665,\n",
       " 0.20526504166666668,\n",
       " 0.08098574479166666,\n",
       " 0.04223779427083333,\n",
       " 0.024114153645833334,\n",
       " 0.014467903645833334,\n",
       " 0.008966854817708333,\n",
       " 0.0056875,\n",
       " 0.0036706953125,\n",
       " 0.0024016389973958332,\n",
       " 0.0015885997721354166,\n",
       " 0.0010603352864583333,\n",
       " 0.00071312890625,\n",
       " 0.0004826983642578125,\n",
       " 0.000328549560546875,\n",
       " 0.00022470552571614584,\n",
       " 0.00015434039306640626,\n",
       " 0.00010640778605143229,\n",
       " 7.361065165201823e-05,\n",
       " 5.1075831095377605e-05,\n",
       " 3.553849538167318e-05,\n",
       " 2.47894287109375e-05,\n",
       " 1.7331822713216147e-05,\n",
       " 1.2143539428710937e-05,\n",
       " 8.525212605794271e-06,\n",
       " 5.995933532714844e-06]"
      ]
     },
     "execution_count": 19,
     "metadata": {},
     "output_type": "execute_result"
    }
   ],
   "source": [
    "norm_list_SORNet"
   ]
  }
 ],
 "metadata": {
  "kernelspec": {
   "display_name": "base",
   "language": "python",
   "name": "python3"
  },
  "language_info": {
   "codemirror_mode": {
    "name": "ipython",
    "version": 3
   },
   "file_extension": ".py",
   "mimetype": "text/x-python",
   "name": "python",
   "nbconvert_exporter": "python",
   "pygments_lexer": "ipython3",
   "version": "3.9.18"
  }
 },
 "nbformat": 4,
 "nbformat_minor": 2
}
